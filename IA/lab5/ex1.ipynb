{
 "cells": [
  {
   "cell_type": "code",
   "execution_count": 7,
   "id": "initial_id",
   "metadata": {
    "collapsed": true,
    "ExecuteTime": {
     "end_time": "2024-03-26T15:01:19.317368900Z",
     "start_time": "2024-03-26T15:01:19.307855200Z"
    }
   },
   "outputs": [],
   "source": [
    "from sklearn.linear_model import LinearRegression, Ridge, Lasso\n",
    "import numpy as np\n",
    "from sklearn.utils import shuffle\n",
    "from sklearn.model_selection import cross_val_score\n",
    "\n",
    "linear = LinearRegression()\n",
    "ridge = Ridge(alpha=1)\n",
    "lasso = Lasso(alpha=1)"
   ]
  },
  {
   "cell_type": "code",
   "execution_count": 6,
   "outputs": [
    {
     "data": {
      "text/plain": "array([[2.0170e+03, 1.8351e+04, 2.1900e+01, 6.2400e+02, 3.7480e+01,\n        4.0000e+00, 1.0000e+00, 0.0000e+00, 0.0000e+00, 1.0000e+00,\n        0.0000e+00, 0.0000e+00, 0.0000e+00, 1.0000e+00],\n       [2.0150e+03, 9.1000e+04, 2.1100e+01, 8.1400e+02, 5.5200e+01,\n        5.0000e+00, 1.0000e+00, 0.0000e+00, 0.0000e+00, 1.0000e+00,\n        0.0000e+00, 0.0000e+00, 1.0000e+00, 0.0000e+00]], dtype=float32)"
     },
     "execution_count": 6,
     "metadata": {},
     "output_type": "execute_result"
    }
   ],
   "source": [
    "training_data = np.load(\"data/training_data.npy\")\n",
    "prices = np.load(\"data/prices.npy\")\n",
    "\n",
    "training_data, prices = shuffle(training_data, prices, random_state=0)"
   ],
   "metadata": {
    "collapsed": false,
    "ExecuteTime": {
     "end_time": "2024-03-26T14:53:26.278609600Z",
     "start_time": "2024-03-26T14:53:26.254141400Z"
    }
   },
   "id": "ffbf354d738642a0"
  },
  {
   "cell_type": "code",
   "execution_count": null,
   "outputs": [],
   "source": [
    "def normal(data, test):\n",
    "    return (data - np.mean(data, axis=1)) / np.std(data, axis=1), (test - np.mean(test, axis=1)) / np.std(test, axis=1)"
   ],
   "metadata": {
    "collapsed": false
   },
   "id": "ece379a745fa3e10"
  },
  {
   "cell_type": "code",
   "execution_count": null,
   "outputs": [],
   "source": [
    "cross_val_score(linear, normal(training_data), prices, cv=3, scoring='neg_mean_squared_error')"
   ],
   "metadata": {
    "collapsed": false
   },
   "id": "f188150eb4eade36"
  }
 ],
 "metadata": {
  "kernelspec": {
   "display_name": "Python 3",
   "language": "python",
   "name": "python3"
  },
  "language_info": {
   "codemirror_mode": {
    "name": "ipython",
    "version": 2
   },
   "file_extension": ".py",
   "mimetype": "text/x-python",
   "name": "python",
   "nbconvert_exporter": "python",
   "pygments_lexer": "ipython2",
   "version": "2.7.6"
  }
 },
 "nbformat": 4,
 "nbformat_minor": 5
}
