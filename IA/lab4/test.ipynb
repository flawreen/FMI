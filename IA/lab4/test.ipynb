{
 "cells": [
  {
   "cell_type": "code",
   "execution_count": 18,
   "id": "initial_id",
   "metadata": {
    "collapsed": true,
    "ExecuteTime": {
     "end_time": "2024-03-19T14:57:50.942689700Z",
     "start_time": "2024-03-19T14:57:50.833754500Z"
    }
   },
   "outputs": [
    {
     "data": {
      "text/plain": "array([list(['Probably', 'not', 'still', 'going', 'over', 'some', 'stuff', 'here']),\n       list(['I', 'HAVE', 'A', 'DATE', 'ON', 'SUNDAY', 'WITH', 'WILL']),\n       list(['Thanks', '4', 'your', 'continued', 'support', 'Your', 'question', 'this', 'week', 'will', 'enter', 'u', 'in2', 'our', 'draw', '4', 'Â£100', 'cash', 'Name', 'the', 'NEW', 'US', 'President', 'txt', 'ans', 'to', '80082']),\n       ...,\n       list(['OH', 'FUCK', 'JUSWOKE', 'UP', 'IN', 'A', 'BED', 'ON', 'A', 'BOATIN', 'THE', 'DOCKS', 'SLEPT', 'WID', '25', 'YEAR', 'OLD', 'SPINOUT', 'GIV', 'U', 'DA', 'GOSSIP', 'L8R', 'XXX']),\n       list(['NOT', 'MUCH', 'NO', 'FIGHTS', 'IT', 'WAS', 'A', 'GOOD', 'NITE']),\n       list(['Did', 'he', 'just', 'say', 'somebody', 'is', 'named', 'tampa'])],\n      dtype=object)"
     },
     "execution_count": 18,
     "metadata": {},
     "output_type": "execute_result"
    }
   ],
   "source": [
    "import math\n",
    "\n",
    "import numpy as np\n",
    "from sklearn import preprocessing\n",
    "\n",
    "\n",
    "train_data = np.load(\"data_lab5/training_sentences.npy\", allow_pickle=True)\n",
    "train_labels = np.load(\"data_lab5/training_labels.npy\", allow_pickle=True)\n",
    "\n",
    "test_data = np.load(\"data_lab5/test_sentences.npy\", allow_pickle=True)\n",
    "test_labels = np.load(\"data_lab5/test_labels.npy\", allow_pickle=True)\n",
    "\n",
    "train_data"
   ]
  },
  {
   "cell_type": "code",
   "execution_count": 19,
   "outputs": [],
   "source": [
    "def normalize_data(train, test, type=None):\n",
    "    if type == 'standard':\n",
    "        scaler = preprocessing.StandardScaler()\n",
    "        scaler.fit(train)\n",
    "        return scaler.transform(train), scaler.transform(test)\n",
    "    elif type == 'l1':\n",
    "        return train / np.sum(np.abs(train_data), axis=1), test / np.sum(np.abs(test_data), axis=1)\n",
    "    elif type == 'l2':\n",
    "        return train / math.sqrt(np.sum(train*train)), test / math.sqrt(np.sum(test*test))"
   ],
   "metadata": {
    "collapsed": false,
    "ExecuteTime": {
     "end_time": "2024-03-19T14:57:51.192905200Z",
     "start_time": "2024-03-19T14:57:51.189915700Z"
    }
   },
   "id": "11b367bb16007483"
  },
  {
   "cell_type": "code",
   "execution_count": 45,
   "outputs": [
    {
     "name": "stdout",
     "output_type": "stream",
     "text": [
      "(array([0], dtype=int64),)\n",
      "9522\n"
     ]
    }
   ],
   "source": [
    "class BagOfWords:\n",
    "    ordered_words_list = []\n",
    "    vocab = {}\n",
    "    features = {}\n",
    "    def build_vocabulary(self, data):\n",
    "        id = 1\n",
    "        for ls in data:\n",
    "            for cuv in ls:\n",
    "                exista = self.vocab.setdefault(cuv, id)\n",
    "                if exista == id:  # daca nu exista deja\n",
    "                    self.vocab[cuv] = id\n",
    "                    id += 1\n",
    "                    self.ordered_words_list.append(cuv)\n",
    "        return self.vocab\n",
    "    \n",
    "    def get_features(self, data):\n",
    "        features = []\n",
    "        for sample in data:\n",
    "            features.append([0 for _ in range(9523)])\n",
    "            for cuv in sample:\n",
    "                if self.vocab.get(cuv, 0) != 0:\n",
    "                    features[-1][self.vocab[cuv]] += 1\n",
    "        return features\n",
    "                \n",
    "    \n",
    "bow = BagOfWords()\n",
    "vocabular = bow.build_vocabulary(train_data)\n",
    "feat = bow.get_features(test_data)\n",
    "print(len(vocabular))"
   ],
   "metadata": {
    "collapsed": false,
    "ExecuteTime": {
     "end_time": "2024-03-19T15:38:45.394342200Z",
     "start_time": "2024-03-19T15:38:44.240248900Z"
    }
   },
   "id": "c505c909539d24ec"
  },
  {
   "cell_type": "code",
   "execution_count": null,
   "outputs": [],
   "source": [],
   "metadata": {
    "collapsed": false
   },
   "id": "2a531db675c113f2"
  }
 ],
 "metadata": {
  "kernelspec": {
   "display_name": "Python 3",
   "language": "python",
   "name": "python3"
  },
  "language_info": {
   "codemirror_mode": {
    "name": "ipython",
    "version": 2
   },
   "file_extension": ".py",
   "mimetype": "text/x-python",
   "name": "python",
   "nbconvert_exporter": "python",
   "pygments_lexer": "ipython2",
   "version": "2.7.6"
  }
 },
 "nbformat": 4,
 "nbformat_minor": 5
}
