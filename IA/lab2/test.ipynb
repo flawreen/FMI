{
 "cells": [
  {
   "cell_type": "code",
   "execution_count": null,
   "outputs": [],
   "source": [
    "import numpy as  np\n",
    "class KnnClassifier:\n",
    "    def __init__(self, train_images, train_labels):\n",
    "        self.train_images = train_images\n",
    "        self.train_labels = train_labels\n",
    "    \n",
    "    def classify_image(self, test_image, num_neighbors=3, metric='l2'):\n",
    "        if metric != 'l2':\n",
    "            dist = np.sum(np.abs(self.train_images - test_image), axis=1)\n",
    "        else:\n",
    "            dist = np.sqrt(np.sum(((self.train_images - test_image) ** 2), axis=1))\n",
    "        \n",
    "        klabels = self.train_labels[dist.argsort()[:num_neighbors]]\n",
    "        \n",
    "        return np.bincount(klabels).argmax()  # cel mai apropiat vecin\n",
    "    \n",
    "    def classify_images(self, test_images, num_neighbors=3, metric='l2'):\n",
    "        return np.array([self.classify_image(img, num_neighbors, metric) for img in test_images])\n",
    "            "
   ],
   "metadata": {
    "collapsed": false
   },
   "id": "e0aa5bc1021a60d1"
  }
 ],
 "metadata": {
  "kernelspec": {
   "display_name": "Python 3",
   "language": "python",
   "name": "python3"
  },
  "language_info": {
   "codemirror_mode": {
    "name": "ipython",
    "version": 2
   },
   "file_extension": ".py",
   "mimetype": "text/x-python",
   "name": "python",
   "nbconvert_exporter": "python",
   "pygments_lexer": "ipython2",
   "version": "2.7.6"
  }
 },
 "nbformat": 4,
 "nbformat_minor": 5
}
